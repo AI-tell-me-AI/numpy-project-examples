{
 "cells": [
  {
   "cell_type": "markdown",
   "source": [
    "## Project - simple neural networks\n",
    "\n",
    "A simple neural network consisting of vector X, one hidden layer (H), and output Y, can be described by the following mathematical expression:\n",
    "\n",
    "`H = relu(W1 X)`\n",
    "`Y = sigmoid(W2 H)`\n",
    "\n",
    "where W1 and W2 are the weights of the respective hidden and output layers.\n",
    "\n",
    "Your task is to implement this network with plain Python and NumPy, without using a Neural Network library such as Pytorch or Tensorflow.\n",
    "\n",
    "You only need to implement the inference pass, NOT the learning algorithm or anything sophisticated.\n",
    "\n",
    "Use these 2 articles, where the same network is implemented in the Clojure programming language (you don't need to know it, treat the code as a pseudocode) as a guide.\n",
    "\n",
    "* [article 1](https://dragan.rocks/articles/19/Deep-Learning-in-Clojure-From-Scratch-to-GPU-1-Representing-Layers-and-Connections)\n",
    "* [article 2](https://dragan.rocks/articles/19/Deep-Learning-in-Clojure-From-Scratch-to-GPU-2-Bias-and-Activation-Function)\n",
    "\n",
    "Use the explicit input and weights values from the article to check your solution.\n"
   ],
   "metadata": {
    "collapsed": false
   }
  }
 ],
 "metadata": {
  "kernelspec": {
   "display_name": "Python 3",
   "language": "python",
   "name": "python3"
  },
  "language_info": {
   "codemirror_mode": {
    "name": "ipython",
    "version": 2
   },
   "file_extension": ".py",
   "mimetype": "text/x-python",
   "name": "python",
   "nbconvert_exporter": "python",
   "pygments_lexer": "ipython2",
   "version": "2.7.6"
  }
 },
 "nbformat": 4,
 "nbformat_minor": 0
}
