{
 "cells": [
  {
   "cell_type": "markdown",
   "source": [
    "## Project 1 - matrix multiplication\n",
    "\n",
    "Develop a simple project to test matrix multiplication theory and its implementation in NumPy.\n",
    "\n",
    "There are three matrices A,B, and C, with dimensions 100000000 x 2, 2 x 100000000, and 100000000 x 2.\n",
    "\n",
    "1. Fill them with random numbers drawn from the uniform distribution 0,1\n",
    "2. Find a way to compute D = ABC.\n",
    "3. Think of a real world example that could be described by such matrices.\n",
    "4. Test the solution using the following matrix dimensions:\n",
    "    - A (1000000 x 100), B (100 x 1000000), C (1000000 x 2)\n",
    "    - A (10 x 100000000), B (100000000 x 10), C (10 x 100000000)\n",
    "\n",
    "You only need basic Python and NumPy."
   ],
   "metadata": {
    "collapsed": false
   }
  }
 ],
 "metadata": {
  "kernelspec": {
   "display_name": "Python 3",
   "language": "python",
   "name": "python3"
  },
  "language_info": {
   "codemirror_mode": {
    "name": "ipython",
    "version": 2
   },
   "file_extension": ".py",
   "mimetype": "text/x-python",
   "name": "python",
   "nbconvert_exporter": "python",
   "pygments_lexer": "ipython2",
   "version": "2.7.6"
  }
 },
 "nbformat": 4,
 "nbformat_minor": 0
}
